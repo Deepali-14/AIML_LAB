{
 "cells": [
  {
   "cell_type": "code",
   "execution_count": 1,
   "id": "1620340b",
   "metadata": {},
   "outputs": [],
   "source": [
    "import numpy as np\n",
    "speed=[99,86,87,88,111,86,103,87,94,78,77,85,86]\n",
    "x=np.mean(speed)"
   ]
  },
  {
   "cell_type": "code",
   "execution_count": 2,
   "id": "77a4df21",
   "metadata": {},
   "outputs": [
    {
     "name": "stdout",
     "output_type": "stream",
     "text": [
      "89.76923076923077\n"
     ]
    }
   ],
   "source": [
    "print(x)"
   ]
  },
  {
   "cell_type": "code",
   "execution_count": 3,
   "id": "9d86b90d",
   "metadata": {},
   "outputs": [],
   "source": [
    "y=np.median(speed)"
   ]
  },
  {
   "cell_type": "code",
   "execution_count": 4,
   "id": "a3fddffe",
   "metadata": {},
   "outputs": [
    {
     "data": {
      "text/plain": [
       "87.0"
      ]
     },
     "execution_count": 4,
     "metadata": {},
     "output_type": "execute_result"
    }
   ],
   "source": [
    "y"
   ]
  },
  {
   "cell_type": "code",
   "execution_count": 5,
   "id": "5c39a8af",
   "metadata": {},
   "outputs": [],
   "source": [
    "z=np.sort(speed)"
   ]
  },
  {
   "cell_type": "code",
   "execution_count": 6,
   "id": "25170da8",
   "metadata": {},
   "outputs": [
    {
     "data": {
      "text/plain": [
       "array([ 77,  78,  85,  86,  86,  86,  87,  87,  88,  94,  99, 103, 111])"
      ]
     },
     "execution_count": 6,
     "metadata": {},
     "output_type": "execute_result"
    }
   ],
   "source": [
    "z"
   ]
  },
  {
   "cell_type": "code",
   "execution_count": 11,
   "id": "c110dc16",
   "metadata": {},
   "outputs": [],
   "source": [
    "speed1=[99,86,87,88,86,103,87,94,78,77,85,86]"
   ]
  },
  {
   "cell_type": "code",
   "execution_count": 12,
   "id": "06a27cd5",
   "metadata": {},
   "outputs": [],
   "source": [
    "z=np.sort(speed1)"
   ]
  },
  {
   "cell_type": "code",
   "execution_count": 13,
   "id": "1d40e2bb",
   "metadata": {},
   "outputs": [
    {
     "data": {
      "text/plain": [
       "array([ 77,  78,  85,  86,  86,  86,  87,  87,  88,  94,  99, 103])"
      ]
     },
     "execution_count": 13,
     "metadata": {},
     "output_type": "execute_result"
    }
   ],
   "source": [
    "z"
   ]
  },
  {
   "cell_type": "code",
   "execution_count": 14,
   "id": "7a2dff35",
   "metadata": {},
   "outputs": [],
   "source": [
    "y=np.median(speed1)"
   ]
  },
  {
   "cell_type": "code",
   "execution_count": 15,
   "id": "ec44e336",
   "metadata": {},
   "outputs": [
    {
     "data": {
      "text/plain": [
       "86.5"
      ]
     },
     "execution_count": 15,
     "metadata": {},
     "output_type": "execute_result"
    }
   ],
   "source": [
    "y"
   ]
  },
  {
   "cell_type": "code",
   "execution_count": 18,
   "id": "3701167b",
   "metadata": {},
   "outputs": [
    {
     "name": "stderr",
     "output_type": "stream",
     "text": [
      "C:\\Users\\Student\\AppData\\Local\\Temp\\ipykernel_9672\\2635405009.py:2: FutureWarning: Unlike other reduction functions (e.g. `skew`, `kurtosis`), the default behavior of `mode` typically preserves the axis it acts along. In SciPy 1.11.0, this behavior will change: the default value of `keepdims` will become False, the `axis` over which the statistic is taken will be eliminated, and the value None will no longer be accepted. Set `keepdims` to True or False to avoid this warning.\n",
      "  z=stats.mode(speed)\n"
     ]
    }
   ],
   "source": [
    "from scipy import stats\n",
    "z=stats.mode(speed)"
   ]
  },
  {
   "cell_type": "code",
   "execution_count": 19,
   "id": "cd04803f",
   "metadata": {},
   "outputs": [
    {
     "data": {
      "text/plain": [
       "ModeResult(mode=array([86]), count=array([3]))"
      ]
     },
     "execution_count": 19,
     "metadata": {},
     "output_type": "execute_result"
    }
   ],
   "source": [
    "z"
   ]
  },
  {
   "cell_type": "code",
   "execution_count": 20,
   "id": "b96ccff4",
   "metadata": {},
   "outputs": [],
   "source": [
    "speed2=[86,87,88,86,87,85,86]"
   ]
  },
  {
   "cell_type": "code",
   "execution_count": 21,
   "id": "5fc48488",
   "metadata": {},
   "outputs": [],
   "source": [
    "z=np.mean(speed2)"
   ]
  },
  {
   "cell_type": "code",
   "execution_count": 22,
   "id": "9968ed77",
   "metadata": {},
   "outputs": [
    {
     "data": {
      "text/plain": [
       "86.42857142857143"
      ]
     },
     "execution_count": 22,
     "metadata": {},
     "output_type": "execute_result"
    }
   ],
   "source": [
    "z"
   ]
  },
  {
   "cell_type": "code",
   "execution_count": 31,
   "id": "fe3d7d73",
   "metadata": {},
   "outputs": [
    {
     "data": {
      "text/plain": [
       "0.9035079029052513"
      ]
     },
     "execution_count": 31,
     "metadata": {},
     "output_type": "execute_result"
    }
   ],
   "source": [
    "x=np.std(speed2)\n",
    "x"
   ]
  },
  {
   "cell_type": "code",
   "execution_count": 33,
   "id": "df9de798",
   "metadata": {},
   "outputs": [],
   "source": [
    "speed3=[32,111,138,28,59,77,97]\n",
    "z=np.mean(speed3)"
   ]
  },
  {
   "cell_type": "code",
   "execution_count": 34,
   "id": "546cb7c9",
   "metadata": {},
   "outputs": [
    {
     "data": {
      "text/plain": [
       "77.42857142857143"
      ]
     },
     "execution_count": 34,
     "metadata": {},
     "output_type": "execute_result"
    }
   ],
   "source": [
    "z"
   ]
  },
  {
   "cell_type": "code",
   "execution_count": 36,
   "id": "381347e5",
   "metadata": {},
   "outputs": [
    {
     "data": {
      "text/plain": [
       "10025.72"
      ]
     },
     "execution_count": 36,
     "metadata": {},
     "output_type": "execute_result"
    }
   ],
   "source": [
    "45.4**2+33.6**2+60.6**2+49.4**2+18.4**2+0.4**2+19.6**2"
   ]
  },
  {
   "cell_type": "code",
   "execution_count": 37,
   "id": "a0588aab",
   "metadata": {},
   "outputs": [
    {
     "data": {
      "text/plain": [
       "1432.2457142857143"
      ]
     },
     "execution_count": 37,
     "metadata": {},
     "output_type": "execute_result"
    }
   ],
   "source": [
    "10025.72/7\n"
   ]
  },
  {
   "cell_type": "code",
   "execution_count": 38,
   "id": "a170d28b",
   "metadata": {},
   "outputs": [
    {
     "data": {
      "text/plain": [
       "37.845012881488096"
      ]
     },
     "execution_count": 38,
     "metadata": {},
     "output_type": "execute_result"
    }
   ],
   "source": [
    "1432.245**0.5\n"
   ]
  },
  {
   "cell_type": "code",
   "execution_count": 39,
   "id": "788ac057",
   "metadata": {},
   "outputs": [],
   "source": [
    "y=np.std(speed3)"
   ]
  },
  {
   "cell_type": "code",
   "execution_count": 40,
   "id": "1c75e401",
   "metadata": {},
   "outputs": [
    {
     "data": {
      "text/plain": [
       "37.84501153334721"
      ]
     },
     "execution_count": 40,
     "metadata": {},
     "output_type": "execute_result"
    }
   ],
   "source": [
    "y"
   ]
  },
  {
   "cell_type": "code",
   "execution_count": 41,
   "id": "ededce8d",
   "metadata": {},
   "outputs": [
    {
     "data": {
      "text/plain": [
       "1432.2448979591834"
      ]
     },
     "execution_count": 41,
     "metadata": {},
     "output_type": "execute_result"
    }
   ],
   "source": [
    "y**2"
   ]
  },
  {
   "cell_type": "code",
   "execution_count": 42,
   "id": "5959163a",
   "metadata": {},
   "outputs": [],
   "source": [
    "z=np.var(speed3)"
   ]
  },
  {
   "cell_type": "code",
   "execution_count": 43,
   "id": "a5c03753",
   "metadata": {},
   "outputs": [
    {
     "data": {
      "text/plain": [
       "1432.2448979591834"
      ]
     },
     "execution_count": 43,
     "metadata": {},
     "output_type": "execute_result"
    }
   ],
   "source": [
    "z"
   ]
  },
  {
   "cell_type": "code",
   "execution_count": 44,
   "id": "40da489d",
   "metadata": {},
   "outputs": [
    {
     "data": {
      "text/plain": [
       "0.8163265306122449"
      ]
     },
     "execution_count": 44,
     "metadata": {},
     "output_type": "execute_result"
    }
   ],
   "source": [
    "z=np.var(speed2)\n",
    "z"
   ]
  },
  {
   "cell_type": "code",
   "execution_count": 45,
   "id": "9b8e7a72",
   "metadata": {},
   "outputs": [],
   "source": [
    "ages=[5,31,43,48,50,41,7,11,15,39,80,82,32,28,6,25,36,27,61,31]"
   ]
  },
  {
   "cell_type": "code",
   "execution_count": 46,
   "id": "b97efcd3",
   "metadata": {},
   "outputs": [
    {
     "data": {
      "text/plain": [
       "44.25"
      ]
     },
     "execution_count": 46,
     "metadata": {},
     "output_type": "execute_result"
    }
   ],
   "source": [
    "x=np.percentile(ages, 75)\n",
    "x"
   ]
  },
  {
   "cell_type": "code",
   "execution_count": 47,
   "id": "b941e693",
   "metadata": {},
   "outputs": [
    {
     "data": {
      "text/plain": [
       "37.2"
      ]
     },
     "execution_count": 47,
     "metadata": {},
     "output_type": "execute_result"
    }
   ],
   "source": [
    "x=np.percentile(ages, 60)\n",
    "x"
   ]
  },
  {
   "cell_type": "code",
   "execution_count": 48,
   "id": "f93db89a",
   "metadata": {},
   "outputs": [
    {
     "data": {
      "text/plain": [
       "62.90000000000003"
      ]
     },
     "execution_count": 48,
     "metadata": {},
     "output_type": "execute_result"
    }
   ],
   "source": [
    "x=np.percentile(ages, 90)\n",
    "x"
   ]
  },
  {
   "cell_type": "code",
   "execution_count": 49,
   "id": "dbeba5db",
   "metadata": {},
   "outputs": [],
   "source": [
    "x=np.percentile(ages,100)"
   ]
  },
  {
   "cell_type": "code",
   "execution_count": 50,
   "id": "d21e7a59",
   "metadata": {},
   "outputs": [
    {
     "data": {
      "text/plain": [
       "82.0"
      ]
     },
     "execution_count": 50,
     "metadata": {},
     "output_type": "execute_result"
    }
   ],
   "source": [
    "x"
   ]
  },
  {
   "cell_type": "code",
   "execution_count": 8,
   "id": "d9e019c5",
   "metadata": {},
   "outputs": [
    {
     "data": {
      "text/plain": [
       "74.12"
      ]
     },
     "execution_count": 8,
     "metadata": {},
     "output_type": "execute_result"
    }
   ],
   "source": [
    "a=[40,45,49,53,61,65,71,79,85,91]\n",
    "x=np.percentile(a, 71)\n",
    "x"
   ]
  },
  {
   "cell_type": "code",
   "execution_count": 2,
   "id": "a091c4c6",
   "metadata": {},
   "outputs": [],
   "source": [
    "import numpy as np\n",
    "x=np.random.uniform(0.0, 5.0, 10000)"
   ]
  },
  {
   "cell_type": "code",
   "execution_count": 3,
   "id": "ea79c7af",
   "metadata": {},
   "outputs": [
    {
     "data": {
      "text/plain": [
       "array([0.56570207, 3.67001777, 4.72662861, ..., 4.58344289, 4.47789433,\n",
       "       0.05549172])"
      ]
     },
     "execution_count": 3,
     "metadata": {},
     "output_type": "execute_result"
    }
   ],
   "source": [
    "x"
   ]
  },
  {
   "cell_type": "code",
   "execution_count": 4,
   "id": "d166f6cb",
   "metadata": {},
   "outputs": [
    {
     "data": {
      "image/png": "[encoded data removed]",
      "text/plain": [
       "<Figure size 640x480 with 1 Axes>"
      ]
     },
     "metadata": {},
     "output_type": "display_data"
    }
   ],
   "source": [
    "import matplotlib.pyplot as plt\n",
    "plt.hist(x,100)\n",
    "plt.show()"
   ]
  },
  {
   "cell_type": "code",
   "execution_count": 5,
   "id": "66927129",
   "metadata": {},
   "outputs": [],
   "source": [
    "import numpy as np\n",
    "x=np.random.normal(0.0, 5.0, 10000)"
   ]
  },
  {
   "cell_type": "code",
   "execution_count": 6,
   "id": "d81f4bb9",
   "metadata": {},
   "outputs": [
    {
     "data": {
      "image/png": "[encoded data removed]",
      "text/plain": [
       "<Figure size 640x480 with 1 Axes>"
      ]
     },
     "metadata": {},
     "output_type": "display_data"
    }
   ],
   "source": [
    "import matplotlib.pyplot as plt\n",
    "plt.hist(x,100)\n",
    "plt.show()"
   ]
  },
  {
   "cell_type": "code",
   "execution_count": null,
   "id": "c67b6f0c",
   "metadata": {},
   "outputs": [],
   "source": []
  }
 ],
 "metadata": {
  "kernelspec": {
   "display_name": "Python 3 (ipykernel)",
   "language": "python",
   "name": "python3"
  },
  "language_info": {
   "codemirror_mode": {
    "name": "ipython",
    "version": 3
   },
   "file_extension": ".py",
   "mimetype": "text/x-python",
   "name": "python",
   "nbconvert_exporter": "python",
   "pygments_lexer": "ipython3",
   "version": "3.9.13"
  }
 },
 "nbformat": 4,
 "nbformat_minor": 5
}
